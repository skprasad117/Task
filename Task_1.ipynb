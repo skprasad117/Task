{
 "cells": [
  {
   "cell_type": "markdown",
   "id": "85652da9",
   "metadata": {},
   "source": [
    "# Task 1"
   ]
  },
  {
   "cell_type": "code",
   "execution_count": 27,
   "id": "488704f4",
   "metadata": {},
   "outputs": [],
   "source": [
    "s = \"this is My First Python programming class and i am learNING python string and its function\""
   ]
  },
  {
   "cell_type": "markdown",
   "id": "589079e0",
   "metadata": {},
   "source": [
    "### Q1 . Try to extract data from index one to index 300 with a jump of 3"
   ]
  },
  {
   "cell_type": "code",
   "execution_count": 2,
   "id": "7ebd2721",
   "metadata": {},
   "outputs": [
    {
     "data": {
      "text/plain": [
       "'tssyityopgmncsa alrNph rgni ni'"
      ]
     },
     "execution_count": 2,
     "metadata": {},
     "output_type": "execute_result"
    }
   ],
   "source": [
    "s[0:300:3]"
   ]
  },
  {
   "cell_type": "markdown",
   "id": "9ae1a901",
   "metadata": {},
   "source": [
    "### Q2. Try to reverse a string without using reverse function"
   ]
  },
  {
   "cell_type": "code",
   "execution_count": 4,
   "id": "eac053f2",
   "metadata": {},
   "outputs": [
    {
     "data": {
      "text/plain": [
       "'noitcnuf sti dna gnirts nohtyp GNINrael ma i dna ssalc gnimmargorp nohtyP tsriF yM si siht'"
      ]
     },
     "execution_count": 4,
     "metadata": {},
     "output_type": "execute_result"
    }
   ],
   "source": [
    "s[::-1]"
   ]
  },
  {
   "cell_type": "markdown",
   "id": "813cbcdb",
   "metadata": {},
   "source": [
    "### Q3 Try to split a string after conversion of entire string in uppercase"
   ]
  },
  {
   "cell_type": "code",
   "execution_count": 8,
   "id": "331042b7",
   "metadata": {},
   "outputs": [
    {
     "data": {
      "text/plain": [
       "['THIS',\n",
       " 'IS',\n",
       " 'MY',\n",
       " 'FIRST',\n",
       " 'PYTHON',\n",
       " 'PROGRAMMING',\n",
       " 'CLASS',\n",
       " 'AND',\n",
       " 'I',\n",
       " 'AM',\n",
       " 'LEARNING',\n",
       " 'PYTHON',\n",
       " 'STRING',\n",
       " 'AND',\n",
       " 'ITS',\n",
       " 'FUNCTION']"
      ]
     },
     "execution_count": 8,
     "metadata": {},
     "output_type": "execute_result"
    }
   ],
   "source": [
    "s.upper().split()"
   ]
  },
  {
   "cell_type": "markdown",
   "id": "2625f41d",
   "metadata": {},
   "source": [
    "### Q4 Try to convert the whole string into lower case "
   ]
  },
  {
   "cell_type": "code",
   "execution_count": 9,
   "id": "542193f9",
   "metadata": {},
   "outputs": [
    {
     "data": {
      "text/plain": [
       "'this is my first python programming class and i am learning python string and its function'"
      ]
     },
     "execution_count": 9,
     "metadata": {},
     "output_type": "execute_result"
    }
   ],
   "source": [
    "s.lower()"
   ]
  },
  {
   "cell_type": "markdown",
   "id": "cf816d81",
   "metadata": {},
   "source": [
    "### Q5  Try to capitalize the whole string "
   ]
  },
  {
   "cell_type": "code",
   "execution_count": 10,
   "id": "c9a092cc",
   "metadata": {},
   "outputs": [
    {
     "data": {
      "text/plain": [
       "'This is my first python programming class and i am learning python string and its function'"
      ]
     },
     "execution_count": 10,
     "metadata": {},
     "output_type": "execute_result"
    }
   ],
   "source": [
    "s.capitalize()"
   ]
  },
  {
   "cell_type": "markdown",
   "id": "a3f4d501",
   "metadata": {},
   "source": [
    "### Q6 Write a diference between isalnum() and isalpha()"
   ]
  },
  {
   "cell_type": "markdown",
   "id": "2191cd2c",
   "metadata": {},
   "source": [
    "### Ans:"
   ]
  },
  {
   "cell_type": "markdown",
   "id": "83571c33",
   "metadata": {},
   "source": [
    "#### isalnum() "
   ]
  },
  {
   "cell_type": "markdown",
   "id": "6db25c08",
   "metadata": {},
   "source": [
    "its is a boolen type funtion which checks a string for either it is alphabetic or numeric or the combination of both it it is then it returns TRUE otherwise false"
   ]
  },
  {
   "cell_type": "markdown",
   "id": "2e7e330f",
   "metadata": {},
   "source": [
    "#### isalpha()"
   ]
  },
  {
   "cell_type": "markdown",
   "id": "21052938",
   "metadata": {},
   "source": [
    "it is a boolen type function which checks a string for either it is alphatic or not if it is then it returns true otherwise false"
   ]
  },
  {
   "cell_type": "markdown",
   "id": "77bc0529",
   "metadata": {},
   "source": [
    "### Q7 Try to give an example of expand tab"
   ]
  },
  {
   "cell_type": "code",
   "execution_count": 30,
   "id": "ac1d7faf",
   "metadata": {},
   "outputs": [],
   "source": [
    "a = \"sanjay\\tkumar\\tprasad\""
   ]
  },
  {
   "cell_type": "code",
   "execution_count": 31,
   "id": "5ea16f9e",
   "metadata": {},
   "outputs": [
    {
     "data": {
      "text/plain": [
       "'sanjay  kumar   prasad'"
      ]
     },
     "execution_count": 31,
     "metadata": {},
     "output_type": "execute_result"
    }
   ],
   "source": [
    "a.expandtabs()"
   ]
  },
  {
   "cell_type": "markdown",
   "id": "5b1ba905",
   "metadata": {},
   "source": [
    "### Q8 Give an example of strip , lstrip and rstrip"
   ]
  },
  {
   "cell_type": "code",
   "execution_count": 46,
   "id": "696514ca",
   "metadata": {},
   "outputs": [],
   "source": [
    "b = \"   sanjay prasad    \""
   ]
  },
  {
   "cell_type": "code",
   "execution_count": 47,
   "id": "d3f668d0",
   "metadata": {},
   "outputs": [
    {
     "data": {
      "text/plain": [
       "'   sanjay prasad    '"
      ]
     },
     "execution_count": 47,
     "metadata": {},
     "output_type": "execute_result"
    }
   ],
   "source": [
    "b"
   ]
  },
  {
   "cell_type": "code",
   "execution_count": 48,
   "id": "b4904988",
   "metadata": {},
   "outputs": [
    {
     "data": {
      "text/plain": [
       "'sanjay prasad'"
      ]
     },
     "execution_count": 48,
     "metadata": {},
     "output_type": "execute_result"
    }
   ],
   "source": [
    "b.strip()"
   ]
  },
  {
   "cell_type": "code",
   "execution_count": 51,
   "id": "abcb06ce",
   "metadata": {},
   "outputs": [
    {
     "data": {
      "text/plain": [
       "'sanjay prasad    '"
      ]
     },
     "execution_count": 51,
     "metadata": {},
     "output_type": "execute_result"
    }
   ],
   "source": [
    "b.lstrip()"
   ]
  },
  {
   "cell_type": "code",
   "execution_count": 52,
   "id": "f7b1ab99",
   "metadata": {},
   "outputs": [
    {
     "data": {
      "text/plain": [
       "'   sanjay prasad'"
      ]
     },
     "execution_count": 52,
     "metadata": {},
     "output_type": "execute_result"
    }
   ],
   "source": [
    "b.rstrip()"
   ]
  },
  {
   "cell_type": "markdown",
   "id": "e85f678e",
   "metadata": {},
   "source": [
    "### Q9.  Replace a string character by another character by taking your own example "
   ]
  },
  {
   "cell_type": "code",
   "execution_count": 54,
   "id": "6c9cdf32",
   "metadata": {},
   "outputs": [],
   "source": [
    "c = \"rattle\""
   ]
  },
  {
   "cell_type": "code",
   "execution_count": 57,
   "id": "0fd27af3",
   "metadata": {},
   "outputs": [
    {
     "ename": "TypeError",
     "evalue": "'str' object does not support item assignment",
     "output_type": "error",
     "traceback": [
      "\u001b[1;31m---------------------------------------------------------------------------\u001b[0m",
      "\u001b[1;31mTypeError\u001b[0m                                 Traceback (most recent call last)",
      "Input \u001b[1;32mIn [57]\u001b[0m, in \u001b[0;36m<cell line: 1>\u001b[1;34m()\u001b[0m\n\u001b[1;32m----> 1\u001b[0m c[\u001b[38;5;241m0\u001b[39m] \u001b[38;5;241m=\u001b[39m \u001b[38;5;124m\"\u001b[39m\u001b[38;5;124mc\u001b[39m\u001b[38;5;124m\"\u001b[39m\n",
      "\u001b[1;31mTypeError\u001b[0m: 'str' object does not support item assignment"
     ]
    }
   ],
   "source": [
    "c[0] = \"c\""
   ]
  },
  {
   "cell_type": "markdown",
   "id": "ba65b569",
   "metadata": {},
   "source": [
    "##### ans : strings are immutable. it is not possible to change the value of a string the only possible way is to make a copy of that with the changes"
   ]
  },
  {
   "cell_type": "markdown",
   "id": "4c980ab5",
   "metadata": {},
   "source": [
    "### Q10 . Try  to give a defination of string center function with and example"
   ]
  },
  {
   "cell_type": "markdown",
   "id": "96f7b944",
   "metadata": {},
   "source": [
    "Its a function use to  create a string of given length and place the another string in the middle of the created string of specified character, if specified character t is not mentioned then in default space is use to fill the  length.\n",
    "\n"
   ]
  },
  {
   "cell_type": "code",
   "execution_count": 61,
   "id": "3d4d50df",
   "metadata": {},
   "outputs": [],
   "source": [
    "z = \"sanjay\""
   ]
  },
  {
   "cell_type": "code",
   "execution_count": 71,
   "id": "6e1e1928",
   "metadata": {},
   "outputs": [
    {
     "data": {
      "text/plain": [
       "'***sanjay***'"
      ]
     },
     "execution_count": 71,
     "metadata": {},
     "output_type": "execute_result"
    }
   ],
   "source": [
    "z.center(12,'*')"
   ]
  },
  {
   "cell_type": "markdown",
   "id": "967090e0",
   "metadata": {},
   "source": [
    "### Q11 Write your own definition of compiler and interpretor without copy paste form internet in your own language"
   ]
  },
  {
   "cell_type": "markdown",
   "id": "d714607e",
   "metadata": {},
   "source": [
    "#### Compiler :"
   ]
  },
  {
   "cell_type": "markdown",
   "id": "03c18148",
   "metadata": {},
   "source": [
    "a compiler is a translater use to convert Hight level language into Low level language in one go"
   ]
  },
  {
   "cell_type": "markdown",
   "id": "05b73748",
   "metadata": {},
   "source": [
    "#### Interpretor:"
   ]
  },
  {
   "cell_type": "markdown",
   "id": "b8882022",
   "metadata": {},
   "source": [
    "a compiler is a translator use to covert high level language into low level language line by line"
   ]
  },
  {
   "cell_type": "markdown",
   "id": "af59ba40",
   "metadata": {},
   "source": [
    "### Q12 . Python is a interpreted or compiled language give a clear ans with your understanding"
   ]
  },
  {
   "cell_type": "markdown",
   "id": "ada3d46f",
   "metadata": {},
   "source": [
    "Python is an interpreted language"
   ]
  },
  {
   "cell_type": "markdown",
   "id": "82a0982a",
   "metadata": {},
   "source": [
    "### Q13 . Try to write a use case of python with your understanding"
   ]
  },
  {
   "cell_type": "markdown",
   "id": "d8999135",
   "metadata": {},
   "source": [
    "Python is a very fast and easy to understand language. it can be use for developing many types of things like web application , desktop application, backend programs for web applications etc"
   ]
  },
  {
   "cell_type": "markdown",
   "id": "f4029b0d",
   "metadata": {},
   "source": [
    "learning python is giving me clear reasons why it can be a better substitute for writing lengthy and complex programs "
   ]
  },
  {
   "cell_type": "markdown",
   "id": "bd600539",
   "metadata": {},
   "source": [
    "a use case of python can be the backend programming of web applications."
   ]
  },
  {
   "cell_type": "code",
   "execution_count": null,
   "id": "480d5570",
   "metadata": {},
   "outputs": [],
   "source": []
  }
 ],
 "metadata": {
  "kernelspec": {
   "display_name": "Python 3 (ipykernel)",
   "language": "python",
   "name": "python3"
  },
  "language_info": {
   "codemirror_mode": {
    "name": "ipython",
    "version": 3
   },
   "file_extension": ".py",
   "mimetype": "text/x-python",
   "name": "python",
   "nbconvert_exporter": "python",
   "pygments_lexer": "ipython3",
   "version": "3.9.12"
  }
 },
 "nbformat": 4,
 "nbformat_minor": 5
}
