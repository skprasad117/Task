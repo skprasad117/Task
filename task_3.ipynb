{
 "cells": [
  {
   "cell_type": "code",
   "execution_count": null,
   "id": "16253dd3",
   "metadata": {},
   "outputs": [],
   "source": [
    "q1 :\n",
    "ineruon \n",
    "ineruon ineruon \n",
    "ineruon ineruon ineruon\n",
    "ineruon ineruon ineruon ineruon\n",
    "\n",
    "q2 - \n",
    "\n",
    "          ineruon\n",
    "    ineruon      ineruon\n",
    "ineruon\t\tineruon \tineruon\n",
    "\tineruon\t\t ineruon\n",
    "\t\t  ineruon\n",
    "\n",
    "l = [[1,2,3,4] , (2,3,4,5,6) , (3,4,5,6,7) , set([23,4,5,45,4,4,5,45,45,4,5]) , {'k1' :\"sudh\" , \"k2\" : \"ineuron\",\"k3\":\n",
    "            \"kumar\" , 3:6 , 7:8} , [\"ineuron\" , \"data science \"]]\n",
    "\n",
    "q3 : Try to extract all the list entity \n",
    "q4 : Try to extract all the dict enteties\n",
    "q5 : Try to extract all the tuples entities\n",
    "q6 : Try to extract all the numerical data it may b a part of dict key and values \n",
    "q7 : Try to give summation of all the numeric data \n",
    "q8 : Try to filter out all the odd values out all numeric data which is a part of a list \n",
    "q9 : Try to extract \"ineruon\" out of this data\n",
    "q10 :Try to find out a number of occurances of all the data \n",
    "q11 : Try to find out number of keys in dict element\n",
    "q12 : Try to filter out all the string data \n",
    "q13 : Try to Find  out alphanum in data\n",
    "q14 : Try to find out multiplication of all numeric value in  the individual collection inside dataset \n",
    "q15 : Try to unwrape all the collection inside collection and create a flat list \n",
    "    \n",
    "    \n",
    "before 29th may 2022 3 PM IST you have to send an answer to me or to shivan \n",
    "sudhanshu@ineuron.ai\n",
    "shivan@ineuron.ai"
   ]
  },
  {
   "cell_type": "markdown",
   "id": "64841ad8",
   "metadata": {},
   "source": [
    "# Task 3"
   ]
  },
  {
   "cell_type": "markdown",
   "id": "9a41e866",
   "metadata": {},
   "source": [
    "## q1 :\n",
    "## ineruon \n",
    "## ineruon ineruon \n",
    "## ineruon ineruon ineruon\n",
    "## ineruon ineruon ineruon ineruon"
   ]
  },
  {
   "cell_type": "code",
   "execution_count": 61,
   "id": "daffa2e5",
   "metadata": {},
   "outputs": [
    {
     "name": "stdout",
     "output_type": "stream",
     "text": [
      "ineruon \n",
      "ineruon ineruon \n",
      "ineruon ineruon ineruon \n",
      "ineruon ineruon ineruon ineruon \n"
     ]
    }
   ],
   "source": [
    "for i in range(4):\n",
    "    for j in range(i+1):\n",
    "        print(\"ineruon\", end= \"\")\n",
    "        print(\" \", end= \"\")\n",
    "    print()"
   ]
  },
  {
   "cell_type": "markdown",
   "id": "94844dbb",
   "metadata": {},
   "source": [
    "## Q2  \n",
    "## __________ ineruon\n",
    "## ______ineruon       ineruon\n",
    "## ineruon       ineruon       ineruon\n",
    "## \t_____ineruon       ineruon\n",
    "## ___________ineruon"
   ]
  },
  {
   "cell_type": "code",
   "execution_count": 60,
   "id": "6eedc3fc",
   "metadata": {},
   "outputs": [
    {
     "name": "stdout",
     "output_type": "stream",
     "text": [
      "              ineruon       \n",
      "       ineruon       ineruon       \n",
      "ineruon       ineruon       ineruon       \n",
      "       ineruon       ineruon       \n",
      "              ineruon       \n"
     ]
    }
   ],
   "source": [
    "a=2\n",
    "b=2\n",
    "for i in range(3):\n",
    "    for j in range(a):\n",
    "        print(\"       \", end=\"\")\n",
    "    a=a-1\n",
    "    for k in range(i+1):\n",
    "        print(\"ineruon\", end=\"\")\n",
    "        print(\"       \", end=\"\")\n",
    "    print()\n",
    "for i in range(2):\n",
    "    for j in range(i+1):\n",
    "        print(\"       \", end=\"\")\n",
    "    for k in range(b):\n",
    "        print(\"ineruon\", end = \"\")\n",
    "        print(\"       \", end=\"\")\n",
    "    b=b-1\n",
    "    print()   \n",
    "\n",
    "        \n",
    "    "
   ]
  },
  {
   "cell_type": "code",
   "execution_count": 27,
   "id": "eeaacad7",
   "metadata": {},
   "outputs": [],
   "source": [
    "l = [[1,2,3,4] , (2,3,4,5,6) , (3,4,5,6,7) , set([23,4,5,45,4,4,5,45,45,4,5]) , {'k1' :\"sudh\" , \"k2\" : \"ineuron\",\"k3\":\n",
    "            \"kumar\" , 3:6 , 7:8} , [\"ineuron\" , \"data science \"]]"
   ]
  },
  {
   "cell_type": "markdown",
   "id": "55d7b883",
   "metadata": {},
   "source": [
    "## Q3 Try to extract all the list entity "
   ]
  },
  {
   "cell_type": "code",
   "execution_count": 65,
   "id": "00f04391",
   "metadata": {},
   "outputs": [
    {
     "name": "stdout",
     "output_type": "stream",
     "text": [
      "[1, 2, 3, 4]\n",
      "['ineuron', 'data science ']\n"
     ]
    }
   ],
   "source": [
    "for i in range(len(l)):\n",
    "    if type(l[i]) == list:\n",
    "        print(l[i])"
   ]
  },
  {
   "cell_type": "markdown",
   "id": "97829365",
   "metadata": {},
   "source": [
    "##  Q4 : Try to extract all the dict enteties"
   ]
  },
  {
   "cell_type": "code",
   "execution_count": 67,
   "id": "fb1f0e41",
   "metadata": {},
   "outputs": [
    {
     "name": "stdout",
     "output_type": "stream",
     "text": [
      "{'k1': 'sudh', 'k2': 'ineuron', 'k3': 'kumar', 3: 6, 7: 8}\n"
     ]
    }
   ],
   "source": [
    "for i in range(len(l)):\n",
    "    if type(l[i])== dict:\n",
    "        print(l[i])"
   ]
  },
  {
   "cell_type": "markdown",
   "id": "3753687c",
   "metadata": {},
   "source": [
    "## Q5 : Try to extract all the tuples entitie\n"
   ]
  },
  {
   "cell_type": "code",
   "execution_count": 68,
   "id": "6af40142",
   "metadata": {},
   "outputs": [
    {
     "name": "stdout",
     "output_type": "stream",
     "text": [
      "(2, 3, 4, 5, 6)\n",
      "(3, 4, 5, 6, 7)\n"
     ]
    }
   ],
   "source": [
    "    for i in range(len(l)):\n",
    "        if type(l[i]) == tuple:\n",
    "            print(l[i])"
   ]
  },
  {
   "cell_type": "markdown",
   "id": "841c6dc6",
   "metadata": {},
   "source": [
    "## Q6 : Try to extract all the numerical data it may b a part of dict key and values"
   ]
  },
  {
   "cell_type": "code",
   "execution_count": 159,
   "id": "d269ff40",
   "metadata": {},
   "outputs": [
    {
     "name": "stdout",
     "output_type": "stream",
     "text": [
      "Numeric data at 0th index of 0th element of list 'l' is : 1\n",
      "Numeric data at 1th index of 0th element of list 'l' is : 2\n",
      "Numeric data at 2th index of 0th element of list 'l' is : 3\n",
      "Numeric data at 3th index of 0th element of list 'l' is : 4\n",
      "Numeric data at 0th index of 1th element of list 'l' is : 2\n",
      "Numeric data at 1th index of 1th element of list 'l' is : 3\n",
      "Numeric data at 2th index of 1th element of list 'l' is : 4\n",
      "Numeric data at 3th index of 1th element of list 'l' is : 5\n",
      "Numeric data at 4th index of 1th element of list 'l' is : 6\n",
      "Numeric data at 0th index of 2th element of list 'l' is : 3\n",
      "Numeric data at 1th index of 2th element of list 'l' is : 4\n",
      "Numeric data at 2th index of 2th element of list 'l' is : 5\n",
      "Numeric data at 3th index of 2th element of list 'l' is : 6\n",
      "Numeric data at 4th index of 2th element of list 'l' is : 7\n",
      "Numeric data at 0th index of 3th element of list 'l' is : 45\n",
      "Numeric data at 1th index of 3th element of list 'l' is : 4\n",
      "Numeric data at 2th index of 3th element of list 'l' is : 5\n",
      "Numeric data at 3th index of 3th element of list 'l' is : 23\n",
      "Numeric data is key of dict at 4th index in list 'l' is: 3\n",
      "Numeric data is value of dict having key 3 , at 4th index in list 'l' is: 6\n",
      "Numeric data is key of dict at 4th index in list 'l' is: 7\n",
      "Numeric data is value of dict having key 7 , at 4th index in list 'l' is: 8\n"
     ]
    }
   ],
   "source": [
    "for i in range(len(l)):\n",
    "    if type(l[i]) != dict:\n",
    "        if type(l[i]) != set:\n",
    "            for j in range(len(l[i])):\n",
    "                if str(l[i][j]).isnumeric() == True:\n",
    "                    print(\"Numeric data at\",str(j)+\"th\",\"index of\",str(i)+\"th\",\"element of list 'l' is :\",l[i][j])\n",
    "        else:\n",
    "            for j in range(len(list(l[i]))):\n",
    "                if str(list(l[i])[j]).isnumeric() == True:\n",
    "                    print(\"Numeric data at\",str(j)+\"th\",\"index of\",str(i)+\"th\",\"element of list 'l' is :\",list(l[i])[j])\n",
    "    else:\n",
    "        for j in l[i]:\n",
    "            if str(j).isnumeric() == True or str(l[i][j]).isnumeric() == True:\n",
    "                print(\"Numeric data is key of dict at\",str(i)+\"th\",\"index in list 'l' is:\",j)\n",
    "                if str(l[i][j]).isnumeric() == True:\n",
    "                    print(\"Numeric data is value of dict having key\",j,\", at\",str(i)+\"th\",\"index in list 'l' is:\",l[i][j])\n",
    "                    "
   ]
  },
  {
   "cell_type": "markdown",
   "id": "7062b28f",
   "metadata": {},
   "source": [
    "## Q7 : Try to give summation of all the numeric data "
   ]
  },
  {
   "cell_type": "code",
   "execution_count": 153,
   "id": "05b639b8",
   "metadata": {},
   "outputs": [
    {
     "name": "stdout",
     "output_type": "stream",
     "text": [
      "sum : 156\n"
     ]
    }
   ],
   "source": [
    "l1=[]\n",
    "b=0\n",
    "for i in range(len(l)):\n",
    "    if type(l[i]) != dict:\n",
    "        if type(l[i]) != set:\n",
    "            for j in range(len(l[i])):\n",
    "                if str(l[i][j]).isnumeric() == True:\n",
    "                    l1.append(l[i][j])\n",
    "        else:\n",
    "            for j in range(len(list(l[i]))):\n",
    "                if str(list(l[i])[j]).isnumeric() == True:\n",
    "                    l1.append(list(l[i])[j])\n",
    "                    \n",
    "    else:\n",
    "        for j in l[i]:\n",
    "            if str(j).isnumeric() == True or str(l[i][j]).isnumeric() == True:\n",
    "                l1.append(j)\n",
    "                if str(l[i][j]).isnumeric() == True:\n",
    "                    l1.append(l[i][j])\n",
    "                    \n",
    "for i in range(len(l1)):\n",
    "    b=b+ l1[i]\n",
    "print(\"sum :\", b)\n",
    "                    "
   ]
  },
  {
   "cell_type": "code",
   "execution_count": 119,
   "id": "05764348",
   "metadata": {},
   "outputs": [
    {
     "data": {
      "text/plain": [
       "list"
      ]
     },
     "execution_count": 119,
     "metadata": {},
     "output_type": "execute_result"
    }
   ],
   "source": [
    "type(a)"
   ]
  },
  {
   "cell_type": "markdown",
   "id": "6870d786",
   "metadata": {},
   "source": [
    "## Q8 : Try to filter out all the odd values out all numeric data which is a part of a list "
   ]
  },
  {
   "cell_type": "code",
   "execution_count": 12,
   "id": "7609ba91",
   "metadata": {},
   "outputs": [
    {
     "name": "stdout",
     "output_type": "stream",
     "text": [
      "element 0 of list l's element 0 is odd: 1\n",
      "element 0 of list l's element 2 is odd: 3\n"
     ]
    }
   ],
   "source": [
    "for i in range(len(l)):\n",
    "    if type(l[i])== list:\n",
    "        for j in range(len(l[i])):\n",
    "            if str(l[i][j]).isnumeric()== True:\n",
    "                if l[i][j]%2 == 1:\n",
    "                    print(\"element\",i,\"of list l's element\", j,\"is odd:\",l[i][j])"
   ]
  },
  {
   "cell_type": "markdown",
   "id": "ae48e9be",
   "metadata": {},
   "source": [
    "## Q9 : Try to extract \"ineruon\" out of this data"
   ]
  },
  {
   "cell_type": "code",
   "execution_count": 154,
   "id": "3db15ff5",
   "metadata": {},
   "outputs": [
    {
     "name": "stdout",
     "output_type": "stream",
     "text": [
      "ineruon is value of key k2 : ineuron\n",
      "ineruon is at 0 index of the 5 th element of list l : ineuron\n"
     ]
    }
   ],
   "source": [
    "for i in range(len(l)):\n",
    "    if type(l[i]) != dict:\n",
    "        if type(l[i]) != set:\n",
    "            for j in range(len(l[i])):\n",
    "                if l[i][j] == \"ineuron\":\n",
    "                    print(\"ineruon is at\", j , \"index of the\",i,\"th element of list l\",\":\",l[i][j])\n",
    "        else:\n",
    "            for j in range(len(list(l[i]))):\n",
    "                \n",
    "                if list(l[i])[j] == \"ineuron\":\n",
    "                    print(\"ineruon is at\", j , \"index of the\",i,\"th element of list l\",\":\",l[i][j])\n",
    "    else:\n",
    "        for j in l[i]:\n",
    "            \n",
    "            if j == \"ineuron\":\n",
    "                print(\"ineruon is key of dict\",j)\n",
    "                print(j)\n",
    "            if l[i][j] == \"ineuron\":\n",
    "                print(\"ineruon is value of key\",j,\":\", l[i][j])\n",
    "                \n",
    "                "
   ]
  },
  {
   "cell_type": "markdown",
   "id": "f4197919",
   "metadata": {},
   "source": [
    "## q10 :Try to find out a number of occurances of all the data"
   ]
  },
  {
   "cell_type": "code",
   "execution_count": 85,
   "id": "8ececba8",
   "metadata": {},
   "outputs": [
    {
     "name": "stdout",
     "output_type": "stream",
     "text": [
      "' 1 ' occured for : 1\n",
      "' 2 ' occured for : 2\n",
      "' 3 ' occured for : 4\n",
      "' 4 ' occured for : 4\n",
      "' 5 ' occured for : 3\n",
      "' 6 ' occured for : 3\n",
      "' 7 ' occured for : 2\n",
      "' k2 ' occured for : 1\n",
      "' k1 ' occured for : 1\n",
      "' kumar ' occured for : 1\n",
      "' 8 ' occured for : 1\n",
      "' 45 ' occured for : 1\n",
      "' ineuron ' occured for : 2\n",
      "' data science  ' occured for : 1\n",
      "' 23 ' occured for : 1\n",
      "' sudh ' occured for : 1\n",
      "' k3 ' occured for : 1\n"
     ]
    }
   ],
   "source": [
    "l1=[]\n",
    "for i in range(len(l)):\n",
    "    if type(l[i]) != dict:\n",
    "        if type(l[i]) != set:\n",
    "            for j in range(len(l[i])):\n",
    "                l1.append(l[i][j])\n",
    "        else:\n",
    "            for j in range(len(list(l[i]))):\n",
    "                l1.append(list(l[i])[j])\n",
    "    else:\n",
    "        for j in l[i]:\n",
    "            l1.append(j)\n",
    "            l1.append(l[i][j])\n",
    "for i in range(len(list(set(l1)))):\n",
    "    print(\"'\",list(set(l1))[i],\"'\",\"occured for :\",l1.count(list(set(l1))[i]))\n",
    "    "
   ]
  },
  {
   "cell_type": "markdown",
   "id": "01873d8e",
   "metadata": {},
   "source": [
    "## Q11 : Try to find out number of keys in dict element\n"
   ]
  },
  {
   "cell_type": "code",
   "execution_count": 21,
   "id": "57c7b49a",
   "metadata": {},
   "outputs": [
    {
     "name": "stdout",
     "output_type": "stream",
     "text": [
      "the total no of keys in dict is 5\n"
     ]
    }
   ],
   "source": [
    "for i in range(len(l)):\n",
    "    if type(l[i]) == dict:\n",
    "        print(\"the total no of keys in dict is\", len(l[i]))"
   ]
  },
  {
   "cell_type": "markdown",
   "id": "9cfe2c90",
   "metadata": {},
   "source": [
    "## Q12 : Try to filter out all the string data"
   ]
  },
  {
   "cell_type": "code",
   "execution_count": 158,
   "id": "206e8974",
   "metadata": {},
   "outputs": [
    {
     "name": "stdout",
     "output_type": "stream",
     "text": [
      "string data is key of dict at 4th index in list 'l' is: k1\n",
      "string data is value of dict having key k1 , at 4th index in list 'l' is: sudh\n",
      "string data is key of dict at 4th index in list 'l' is: k2\n",
      "string data is value of dict having key k2 , at 4th index in list 'l' is: ineuron\n",
      "string data is key of dict at 4th index in list 'l' is: k3\n",
      "string data is value of dict having key k3 , at 4th index in list 'l' is: kumar\n",
      "String at 0th index of 5th element of list 'l' is : ineuron\n",
      "String at 1th index of 5th element of list 'l' is : data science \n"
     ]
    }
   ],
   "source": [
    "for i in range(len(l)):\n",
    "    if type(l[i]) != dict:\n",
    "        if type(l[i]) != set:\n",
    "            for j in range(len(l[i])):\n",
    "                if type(l[i][j]) == str:\n",
    "                    print(\"String at\",str(j)+\"th\",\"index of\",str(i)+\"th\",\"element of list 'l' is :\",l[i][j])\n",
    "        else:\n",
    "            for j in range(len(list(l[i]))):\n",
    "                if type(list(l[i])[j]) == str:\n",
    "                    print(\"String data at\",str(j)+\"th\",\"index of\",str(i)+\"th\",\"element of list 'l' is :\",list(l[i])[j])\n",
    "    else:\n",
    "        for j in l[i]:\n",
    "            if type(j) == str or type(l[i][j]) == str:\n",
    "                print(\"string data is key of dict at\",str(i)+\"th\",\"index in list 'l' is:\",j)\n",
    "                if type(l[i][j]) == str:\n",
    "                    print(\"string data is value of dict having key\",j,\", at\",str(i)+\"th\",\"index in list 'l' is:\",l[i][j])\n",
    "                    "
   ]
  },
  {
   "cell_type": "markdown",
   "id": "73e9520c",
   "metadata": {},
   "source": [
    "## Q13 : Try to Find  out alphanum in data\n"
   ]
  },
  {
   "cell_type": "code",
   "execution_count": 4,
   "id": "2ac5a401",
   "metadata": {},
   "outputs": [
    {
     "name": "stdout",
     "output_type": "stream",
     "text": [
      "Alphanumeric data at 0th index of 0th element of list 'l' is : 1\n",
      "Alphanumeric data at 1th index of 0th element of list 'l' is : 2\n",
      "Alphanumeric data at 2th index of 0th element of list 'l' is : 3\n",
      "Alphanumeric data at 3th index of 0th element of list 'l' is : 4\n",
      "Alphanumeric data at 0th index of 1th element of list 'l' is : 2\n",
      "Alphanumeric data at 1th index of 1th element of list 'l' is : 3\n",
      "Alphanumeric data at 2th index of 1th element of list 'l' is : 4\n",
      "Alphanumeric data at 3th index of 1th element of list 'l' is : 5\n",
      "Alphanumeric data at 4th index of 1th element of list 'l' is : 6\n",
      "Alphanumeric data at 0th index of 2th element of list 'l' is : 3\n",
      "Alphanumeric data at 1th index of 2th element of list 'l' is : 4\n",
      "Alphanumeric data at 2th index of 2th element of list 'l' is : 5\n",
      "Alphanumeric data at 3th index of 2th element of list 'l' is : 6\n",
      "Alphanumeric data at 4th index of 2th element of list 'l' is : 7\n",
      "Alphanumeric data at 0th index of 3th element of list 'l' is : 45\n",
      "Alphanumeric data at 1th index of 3th element of list 'l' is : 4\n",
      "Alphanumeric data at 2th index of 3th element of list 'l' is : 5\n",
      "Alphanumeric data at 3th index of 3th element of list 'l' is : 23\n",
      "Alphanumeric data is key of dict at 4th index in list 'l' is: k1\n",
      "Alphanumeric data is key of dict at 4th index in list 'l' is: k2\n",
      "Alphanumeric data is key of dict at 4th index in list 'l' is: k3\n",
      "Alphanumeric data is key of dict at 4th index in list 'l' is: 3\n",
      "Alphanumeric data is value of dict having key 3 , at 4th index in list 'l' is: 6\n",
      "Alphanumeric data is key of dict at 4th index in list 'l' is: 7\n",
      "Alphanumeric data is value of dict having key 7 , at 4th index in list 'l' is: 8\n",
      "Alphanumeric data at 0th index of 5th element of list 'l' is : ineuron\n"
     ]
    }
   ],
   "source": [
    "for i in range(len(l)):\n",
    "    if type(l[i]) != dict:\n",
    "        if type(l[i]) != set:\n",
    "            for j in range(len(l[i])):\n",
    "                if str(l[i][j]).isalnum() == True:\n",
    "                    print(\"Alphanumeric data at\",str(j)+\"th\",\"index of\",str(i)+\"th\",\"element of list 'l' is :\",l[i][j])\n",
    "        else:\n",
    "            for j in range(len(list(l[i]))):\n",
    "                if str(list(l[i])[j]).isalnum() == True:\n",
    "                    print(\"Alphanumeric data at\",str(j)+\"th\",\"index of\",str(i)+\"th\",\"element of list 'l' is :\",list(l[i])[j])\n",
    "    else:\n",
    "        for j in l[i]:\n",
    "            if str(j).isalnum() == True or str(l[i][j]).isalnum() == True:\n",
    "                print(\"Alphanumeric data is key of dict at\",str(i)+\"th\",\"index in list 'l' is:\",j)\n",
    "                if str(l[i][j]).isnumeric() == True:\n",
    "                    print(\"Alphanumeric data is value of dict having key\",j,\", at\",str(i)+\"th\",\"index in list 'l' is:\",l[i][j])\n",
    "                    "
   ]
  },
  {
   "cell_type": "markdown",
   "id": "07510945",
   "metadata": {},
   "source": [
    "## Q14 : Try to find out multiplication of all numeric value in  the individual collection inside dataset \n"
   ]
  },
  {
   "cell_type": "code",
   "execution_count": 23,
   "id": "f03a8215",
   "metadata": {},
   "outputs": [
    {
     "data": {
      "text/plain": [
       "[[1, 2, 3, 4],\n",
       " (2, 3, 4, 5, 6),\n",
       " (3, 4, 5, 6, 7),\n",
       " {4, 5, 23, 45},\n",
       " {'k1': 'sudh', 'k2': 'ineuron', 'k3': 'kumar', 3: 6, 7: 8},\n",
       " ['ineuron', 'data science ']]"
      ]
     },
     "execution_count": 23,
     "metadata": {},
     "output_type": "execute_result"
    }
   ],
   "source": [
    "l"
   ]
  },
  {
   "cell_type": "code",
   "execution_count": 26,
   "id": "0412b201",
   "metadata": {},
   "outputs": [
    {
     "name": "stdout",
     "output_type": "stream",
     "text": [
      "The multiplication of all the numeric elements of collection at 0th index is : 24\n",
      "The multiplication of all the numeric elements of collection at 1th index is : 720\n",
      "The multiplication of all the numeric elements of collection at 2th index is : 2520\n",
      "The multiplication of all the numeric elements of collection at 3th index is : 20700\n",
      "The multiplication of all the numeric elements of collection at 4th index is : 18\n",
      "The multiplication of all the numeric elements of collection at 4th index is : 56\n",
      "The multiplication of all the numeric elements of collection at 5th index is : 1\n"
     ]
    }
   ],
   "source": [
    "\n",
    "b=1\n",
    "for i in range(len(l)):\n",
    "    if type(l[i]) != dict:\n",
    "        if type(l[i]) != set:\n",
    "            for j in range(len(l[i])):\n",
    "                if str(l[i][j]).isnumeric() == True:\n",
    "                    b=b*int(l[i][j])\n",
    "            print(\"The multiplication of all the numeric elements of collection at\",str(i)+\"th\",\"index is :\",b)\n",
    "            b=1\n",
    "        else:\n",
    "            for j in range(len(list(l[i]))):\n",
    "                if str(list(l[i])[j]).isnumeric() == True:\n",
    "                    b=b*list(l[i])[j]\n",
    "            print(\"The multiplication of all the numeric elements of collection at\",str(i)+\"th\",\"index is :\",b)\n",
    "            b=1\n",
    "                    \n",
    "    else:\n",
    "        for j in l[i]:\n",
    "            if str(j).isnumeric() == True:\n",
    "                if str(l[i][j]).isnumeric() == True:\n",
    "                    b=j*int(l[i][j])\n",
    "                    print(\"The multiplication of all the numeric elements of collection at\",str(i)+\"th\",\"index is :\",b)\n",
    "                b=1\n",
    "                    \n",
    "\n",
    "                    "
   ]
  },
  {
   "cell_type": "markdown",
   "id": "092189ef",
   "metadata": {},
   "source": [
    "## Q15 : Try to unwrape all the collection inside collection and create a flat list "
   ]
  },
  {
   "cell_type": "code",
   "execution_count": 31,
   "id": "5aa81f8f",
   "metadata": {},
   "outputs": [
    {
     "data": {
      "text/plain": [
       "[1,\n",
       " 2,\n",
       " 3,\n",
       " 4,\n",
       " 2,\n",
       " 3,\n",
       " 4,\n",
       " 5,\n",
       " 6,\n",
       " 3,\n",
       " 4,\n",
       " 5,\n",
       " 6,\n",
       " 7,\n",
       " 45,\n",
       " 4,\n",
       " 5,\n",
       " 23,\n",
       " 'k1',\n",
       " 'sudh',\n",
       " 'k2',\n",
       " 'ineuron',\n",
       " 'k3',\n",
       " 'kumar',\n",
       " 3,\n",
       " 6,\n",
       " 7,\n",
       " 8,\n",
       " 'ineuron',\n",
       " 'data science ']"
      ]
     },
     "execution_count": 31,
     "metadata": {},
     "output_type": "execute_result"
    }
   ],
   "source": [
    "l1 = []\n",
    "for i in range(len(l)):\n",
    "    if type(l[i]) != dict :\n",
    "        if type(l[i]) != set:\n",
    "            for j in range(len(l[i])):\n",
    "                l1.append(l[i][j])\n",
    "        else:\n",
    "            for j in range(len(list(l[i]))):\n",
    "                l1.append(list(l[i])[j])\n",
    "    else:\n",
    "        for j in l[i]:\n",
    "            l1.append(j)\n",
    "            l1.append(l[i][j])\n",
    "l1\n",
    "                "
   ]
  },
  {
   "cell_type": "code",
   "execution_count": null,
   "id": "4eec63e9",
   "metadata": {},
   "outputs": [],
   "source": []
  }
 ],
 "metadata": {
  "kernelspec": {
   "display_name": "Python 3 (ipykernel)",
   "language": "python",
   "name": "python3"
  },
  "language_info": {
   "codemirror_mode": {
    "name": "ipython",
    "version": 3
   },
   "file_extension": ".py",
   "mimetype": "text/x-python",
   "name": "python",
   "nbconvert_exporter": "python",
   "pygments_lexer": "ipython3",
   "version": "3.9.12"
  }
 },
 "nbformat": 4,
 "nbformat_minor": 5
}
